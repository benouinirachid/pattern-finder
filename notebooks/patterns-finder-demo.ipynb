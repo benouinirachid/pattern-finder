{
 "cells": [
  {
   "cell_type": "markdown",
   "metadata": {},
   "source": [
    "### Installation"
   ]
  },
  {
   "cell_type": "markdown",
   "metadata": {},
   "source": [
    "```py\n",
    "pip install patterns-finder\n",
    "```"
   ]
  },
  {
   "cell_type": "markdown",
   "metadata": {},
   "source": [
    "### Find a pattern in the text"
   ]
  },
  {
   "cell_type": "code",
   "execution_count": 1,
   "metadata": {},
   "outputs": [],
   "source": [
    "import sys\n",
    "sys.path.append(\"../\")"
   ]
  },
  {
   "cell_type": "code",
   "execution_count": 2,
   "metadata": {},
   "outputs": [],
   "source": [
    "from patterns_finder.patterns.web import emoji, url, email"
   ]
  },
  {
   "cell_type": "code",
   "execution_count": 3,
   "metadata": {},
   "outputs": [
    {
     "data": {
      "text/plain": [
       "[(18, 19, 'EMOJI', '🦊'), (49, 50, 'EMOJI', '🐶')]"
      ]
     },
     "execution_count": 3,
     "metadata": {},
     "output_type": "execute_result"
    }
   ],
   "source": [
    "emoji.find(\"the quick #A52A2A 🦊 jumped 3 times over the lazy 🐶 \")"
   ]
  },
  {
   "cell_type": "code",
   "execution_count": 4,
   "metadata": {},
   "outputs": [
    {
     "data": {
      "text/plain": [
       "[(25, 45, 'URL', 'https://lazy.dog.com')]"
      ]
     },
     "execution_count": 4,
     "metadata": {},
     "output_type": "execute_result"
    }
   ],
   "source": [
    "url.find(\"The lazy 🐶 has a website https://lazy.dog.com \")"
   ]
  },
  {
   "cell_type": "code",
   "execution_count": 5,
   "metadata": {},
   "outputs": [
    {
     "data": {
      "text/plain": [
       "[(0, 19, 'EMAIL', 'quick.brown@fox.com')]"
      ]
     },
     "execution_count": 5,
     "metadata": {},
     "output_type": "execute_result"
    }
   ],
   "source": [
    "email.find(\"quick.brown@fox.com is the email of 🦊 \")"
   ]
  },
  {
   "cell_type": "markdown",
   "metadata": {},
   "source": [
    "### Find multiple patterns in the text"
   ]
  },
  {
   "cell_type": "code",
   "execution_count": 6,
   "metadata": {},
   "outputs": [],
   "source": [
    "from patterns_finder import finder\n",
    "from patterns_finder.patterns.web import emoji, url, color_hex\n",
    "from patterns_finder.patterns.number import integer"
   ]
  },
  {
   "cell_type": "code",
   "execution_count": 7,
   "metadata": {},
   "outputs": [
    {
     "data": {
      "text/plain": [
       "[(18, 19, 'EMOJI', '🦊'),\n",
       " (49, 50, 'EMOJI', '🐶'),\n",
       " (10, 17, 'COLOR_HEX', '#A52A2A'),\n",
       " (12, 14, 'INTEGER', '52'),\n",
       " (15, 16, 'INTEGER', '2'),\n",
       " (27, 28, 'INTEGER', '3'),\n",
       " (0, 3, 'WORD', 'the'),\n",
       " (4, 9, 'WORD', 'quick'),\n",
       " (20, 26, 'WORD', 'jumped'),\n",
       " (29, 34, 'WORD', 'times'),\n",
       " (35, 39, 'WORD', 'over'),\n",
       " (40, 43, 'WORD', 'the'),\n",
       " (44, 48, 'WORD', 'lazy')]"
      ]
     },
     "execution_count": 7,
     "metadata": {},
     "output_type": "execute_result"
    }
   ],
   "source": [
    "patterns = [emoji, color_hex, integer, (\"\\\\b[a-zA-Z]+\\\\b\", \"WORD\")]                              # Add User-Defined Patterns: \"quick|lazy\" and (\"\\\\b[a-zA-Z]+\\\\b\", \"WORD\")\n",
    "text = \"the quick #A52A2A 🦊 jumped 3 times over the lazy 🐶 \"\n",
    "finder.patterns_in_text(text, patterns)"
   ]
  },
  {
   "cell_type": "markdown",
   "metadata": {},
   "source": [
    "### Sort the results"
   ]
  },
  {
   "cell_type": "code",
   "execution_count": 8,
   "metadata": {},
   "outputs": [
    {
     "data": {
      "text/plain": [
       "[(0, 3, 'WORD', 'the'),\n",
       " (4, 9, 'WORD', 'quick'),\n",
       " (10, 17, 'COLOR_HEX', '#A52A2A'),\n",
       " (18, 19, 'EMOJI', '🦊'),\n",
       " (20, 26, 'WORD', 'jumped'),\n",
       " (29, 34, 'WORD', 'times'),\n",
       " (35, 39, 'WORD', 'over'),\n",
       " (40, 43, 'WORD', 'the'),\n",
       " (44, 48, 'WORD', 'lazy'),\n",
       " (49, 50, 'EMOJI', '🐶')]"
      ]
     },
     "execution_count": 8,
     "metadata": {},
     "output_type": "execute_result"
    }
   ],
   "source": [
    "patterns = [emoji, color_hex, ('\\\\b[a-zA-Z]+\\\\b', 'WORD') ]\n",
    "finder.patterns_in_text(text, patterns, sort_by=finder.START)"
   ]
  },
  {
   "cell_type": "markdown",
   "metadata": {},
   "source": [
    "### Summarize the results"
   ]
  },
  {
   "cell_type": "code",
   "execution_count": 9,
   "metadata": {},
   "outputs": [
    {
     "data": {
      "text/plain": [
       "{'EMOJI': ['🦊', '🐶'],\n",
       " 'COLOR_HEX': ['#A52A2A'],\n",
       " 'WORD': ['the', 'quick', 'jumped', 'times', 'over', 'the', 'lazy']}"
      ]
     },
     "execution_count": 9,
     "metadata": {},
     "output_type": "execute_result"
    }
   ],
   "source": [
    "finder.patterns_in_text(text, patterns, summary_type=finder.LABEL_TEXT)"
   ]
  },
  {
   "cell_type": "markdown",
   "metadata": {},
   "source": [
    "### Pandas' DataFrame support "
   ]
  },
  {
   "cell_type": "code",
   "execution_count": 10,
   "metadata": {},
   "outputs": [
    {
     "data": {
      "text/html": [
       "<div>\n",
       "<style scoped>\n",
       "    .dataframe tbody tr th:only-of-type {\n",
       "        vertical-align: middle;\n",
       "    }\n",
       "\n",
       "    .dataframe tbody tr th {\n",
       "        vertical-align: top;\n",
       "    }\n",
       "\n",
       "    .dataframe thead th {\n",
       "        text-align: right;\n",
       "    }\n",
       "</style>\n",
       "<table border=\"1\" class=\"dataframe\">\n",
       "  <thead>\n",
       "    <tr style=\"text-align: right;\">\n",
       "      <th></th>\n",
       "      <th>text</th>\n",
       "    </tr>\n",
       "  </thead>\n",
       "  <tbody>\n",
       "    <tr>\n",
       "      <th>0</th>\n",
       "      <td>the quick #A52A2A 🦊 jumped 3 times over the lazy 🐶</td>\n",
       "    </tr>\n",
       "    <tr>\n",
       "      <th>1</th>\n",
       "      <td>quick.brown@fox.com is the email of 🦊</td>\n",
       "    </tr>\n",
       "    <tr>\n",
       "      <th>2</th>\n",
       "      <td>The lazy 🐶 has a website https://lazy.dog.com</td>\n",
       "    </tr>\n",
       "  </tbody>\n",
       "</table>\n",
       "</div>"
      ],
      "text/plain": [
       "                                                 text\n",
       "0  the quick #A52A2A 🦊 jumped 3 times over the lazy 🐶\n",
       "1               quick.brown@fox.com is the email of 🦊\n",
       "2       The lazy 🐶 has a website https://lazy.dog.com"
      ]
     },
     "execution_count": 10,
     "metadata": {},
     "output_type": "execute_result"
    }
   ],
   "source": [
    "import pandas as pd\n",
    "pd.set_option(\"display.max_rows\", None, \"display.max_columns\", None, \"display.max_colwidth\", None)\n",
    "\n",
    "df = pd.DataFrame(data={\n",
    "    'text': [\"the quick #A52A2A 🦊 jumped 3 times over the lazy 🐶\",\n",
    "                    \"quick.brown@fox.com is the email of 🦊\",\n",
    "                    \"The lazy 🐶 has a website https://lazy.dog.com\"],\n",
    "    })\n",
    "df"
   ]
  },
  {
   "cell_type": "code",
   "execution_count": 11,
   "metadata": {},
   "outputs": [
    {
     "data": {
      "text/html": [
       "<div>\n",
       "<style scoped>\n",
       "    .dataframe tbody tr th:only-of-type {\n",
       "        vertical-align: middle;\n",
       "    }\n",
       "\n",
       "    .dataframe tbody tr th {\n",
       "        vertical-align: top;\n",
       "    }\n",
       "\n",
       "    .dataframe thead th {\n",
       "        text-align: right;\n",
       "    }\n",
       "</style>\n",
       "<table border=\"1\" class=\"dataframe\">\n",
       "  <thead>\n",
       "    <tr style=\"text-align: right;\">\n",
       "      <th></th>\n",
       "      <th>text</th>\n",
       "      <th>extraction</th>\n",
       "    </tr>\n",
       "  </thead>\n",
       "  <tbody>\n",
       "    <tr>\n",
       "      <th>0</th>\n",
       "      <td>the quick #A52A2A 🦊 jumped 3 times over the lazy 🐶</td>\n",
       "      <td>{'EMOJI': ['🦊', '🐶']}</td>\n",
       "    </tr>\n",
       "    <tr>\n",
       "      <th>1</th>\n",
       "      <td>quick.brown@fox.com is the email of 🦊</td>\n",
       "      <td>{'EMAIL': ['quick.brown@fox.com'], 'EMOJI': ['🦊']}</td>\n",
       "    </tr>\n",
       "    <tr>\n",
       "      <th>2</th>\n",
       "      <td>The lazy 🐶 has a website https://lazy.dog.com</td>\n",
       "      <td>{'EMOJI': ['🐶'], 'URL': ['https://lazy.dog.com']}</td>\n",
       "    </tr>\n",
       "  </tbody>\n",
       "</table>\n",
       "</div>"
      ],
      "text/plain": [
       "                                                 text  \\\n",
       "0  the quick #A52A2A 🦊 jumped 3 times over the lazy 🐶   \n",
       "1               quick.brown@fox.com is the email of 🦊   \n",
       "2       The lazy 🐶 has a website https://lazy.dog.com   \n",
       "\n",
       "                                           extraction  \n",
       "0                               {'EMOJI': ['🦊', '🐶']}  \n",
       "1  {'EMAIL': ['quick.brown@fox.com'], 'EMOJI': ['🦊']}  \n",
       "2   {'EMOJI': ['🐶'], 'URL': ['https://lazy.dog.com']}  "
      ]
     },
     "execution_count": 11,
     "metadata": {},
     "output_type": "execute_result"
    }
   ],
   "source": [
    "patterns = [email, emoji, url]\n",
    "finder.patterns_in_df(df, \"text\", \"extraction\", patterns, summary_type=finder.LABEL_TEXT)"
   ]
  },
  {
   "cell_type": "code",
   "execution_count": 14,
   "metadata": {},
   "outputs": [],
   "source": [
    "text = \"\"\"\n",
    "https://www.example.com/questions/3456/my-document ftp://www.example.com/questions/3456/my-document.txt www.example.com\n",
    "http://example.com/questions/3456/my-document\n",
    "😃 mailto:test@me.com\n",
    "/example/questions/3456/my-document.tx  example.com example-com/questions/3456/my-document\n",
    "عبارة\n",
    "عنوان\n",
    "الشبكة\n",
    "non-matches:\n",
    "“Uniform”  “Uni\\\"form” \n",
    "123 USD EUR +1 (999) 999-9999\n",
    "Abcd with 200 Dollars $ 50M text me $50.2m or  $10,000,00 not $10000  yet ¥ 1M but not $ or ¥ or 10\n",
    "Aenean lacinia bibendum <a href=\"/life\">life</a> sed consectetur. <a href=\"/work\">Work</a> quis \n",
    "risus eget urna mol ornare <a href=\"/about\">about</a> leo. <a> me </a>\n",
    "A1A 1A1 match\n",
    "A1A-1A1 match\n",
    "A1A1A1 match\n",
    "D1D-1D1\tno match\n",
    "AAA-111\tno match\n",
    "A1-A1-A1\tno match 0xG10ABG 0x10AB \n",
    "Matches     +447222555555   | +44 7222 555 555 | (0722) 5555555 #2222\n",
    "Non-Matches (+447222)555555 | +44(7222)555555  | (0722) 5555555 #22\n",
    "\"+5.6%\",\"1234.56 %\", \"±0.05 %\" \"-42.23%\" \"+5.6\", \"0.5\", \"-100\", \"%23.6\"\n",
    "100,234,23.10 +10.10 -10.10 ±10\n",
    "III match MCIV match MMCDXLVI match\n",
    "IIII\tno match Привет мир Россия Москва\n",
    "IM\tno match Matches\t-1.23E99 | 1E0 | -9.999e-999\n",
    "Non-Matches\t+10E0 | 2.3e5.4 | 9.4608 x 1015\n",
    "©2015 © 2015 (c) 2014 match \n",
    "(C) 2014 , copyright 2014 match\n",
    "4000 0000 0000 0000 match\n",
    "5200-0000-0000-0000 match\n",
    "6500000000000000 match\n",
    "3400-0000-0000-0000\tno match\n",
    "340 000000 000000\n",
    "\"matches\": [\"1:01 AM\", \"1-01 aM\", \"23:52:01\", \"03.24.36 AM\"],\n",
    "\"non-matches\": [\"19:31 AM\", \"9:9 PM\", \"25:60:61\"]\n",
    "this is 23/11/20 23/11/2020  a\n",
    "video lowres.mp4\n",
    "video..lowres..mp4 벵골인(Bengali people)은 벵골 지역을 \n",
    "video?lowres.png\n",
    "video_lowres.mp4 總人口數約300,000,000人。於人口\n",
    "video_lowres.m4v বাঙ্গালী/বাঙালি \n",
    "startbanner.jpg\n",
    "start banner.jpg\n",
    "\"\"\""
   ]
  },
  {
   "cell_type": "code",
   "execution_count": 15,
   "metadata": {},
   "outputs": [
    {
     "data": {
      "text/plain": [
       "{'ARABIC': ['عبارة', 'عنوان', 'الشبكة'],\n",
       " 'BANGALI': ['বাঙ্গালী', 'বাঙালি'],\n",
       " 'JAPANESE': ['總人口數約', '人。於人口'],\n",
       " 'RUSSIAN': ['Привет', 'мир', 'Россия', 'Москва']}"
      ]
     },
     "execution_count": 15,
     "metadata": {},
     "output_type": "execute_result"
    }
   ],
   "source": [
    "from patterns_finder.patterns.language import arabic, bangali, japanese, russian\n",
    "\n",
    "patterns = [arabic, bangali, japanese, russian]\n",
    "finder.patterns_in_text(text,patterns,summary_type=finder.LABEL_TEXT)"
   ]
  },
  {
   "cell_type": "code",
   "execution_count": null,
   "metadata": {},
   "outputs": [],
   "source": []
  },
  {
   "cell_type": "code",
   "execution_count": null,
   "metadata": {},
   "outputs": [],
   "source": []
  }
 ],
 "metadata": {
  "interpreter": {
   "hash": "e923c49d92f58ba60ae1486c69246b671f7a9f0b3f984b0387de20ccfef63637"
  },
  "kernelspec": {
   "display_name": "Python 3.8.12 ('ml_env')",
   "language": "python",
   "name": "python3"
  },
  "language_info": {
   "codemirror_mode": {
    "name": "ipython",
    "version": 3
   },
   "file_extension": ".py",
   "mimetype": "text/x-python",
   "name": "python",
   "nbconvert_exporter": "python",
   "pygments_lexer": "ipython3",
   "version": "3.8.12"
  },
  "orig_nbformat": 4
 },
 "nbformat": 4,
 "nbformat_minor": 2
}
