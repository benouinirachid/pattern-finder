{
 "cells": [
  {
   "cell_type": "code",
   "execution_count": 3,
   "metadata": {},
   "outputs": [],
   "source": [
    "import regex\n",
    "import re\n",
    "\n",
    "# def to_raw(string):\n",
    "#     return fr\"{string}\""
   ]
  },
  {
   "cell_type": "code",
   "execution_count": 12,
   "metadata": {},
   "outputs": [],
   "source": [
    "text = \"\"\"\n",
    "https://www.example.com/questions/3456/my-document\n",
    "ftp://www.example.com/questions/3456/my-document.txt\n",
    "www.example.com\n",
    "http://example.com/questions/3456/my-document\n",
    "😃\n",
    "mailto:test@me.com\n",
    "/example/questions/3456/my-document.tx\n",
    "example.com\n",
    "example-com/questions/3456/my-document\n",
    "عبارة\n",
    "عنوان\n",
    "الشبكة\n",
    "non-matches:\n",
    "“Uniform” \n",
    "“Uni\\\"form” \n",
    "123 USD EUR\n",
    "+1 (999) 999-9999\n",
    "Abcd with 200 Dollars\n",
    "$ 50M text me $50.2m or  $10,000,00 not $10000  yet ¥ 1M\n",
    "but not $ or ¥ or 10\n",
    "Aenean lacinia bibendum <a href=\"/life\">life</a> sed consectetur. <a href=\"/work\">Work</a> quis \n",
    "risus eget urna mol ornare <a href=\"/about\">about</a> leo. <a> me </a>\n",
    "A1A 1A1 match\n",
    "A1A-1A1 match\n",
    "A1A1A1 match\n",
    "D1D-1D1\tno match\n",
    "AAA-111\tno match\n",
    "A1-A1-A1\tno match 0xG10ABG 0x10AB \n",
    "Matches     +447222555555   | +44 7222 555 555 | (0722) 5555555 #2222\n",
    "Non-Matches (+447222)555555 | +44(7222)555555  | (0722) 5555555 #22\n",
    "\"+5.6%\",\"1234.56 %\", \"±0.05 %\" \"-42.23%\" \"+5.6\", \"0.5\", \"-100\", \"%23.6\"\n",
    "100,234,23.10 +10.10 -10.10 ±10\n",
    "III match\n",
    "MCIV match\n",
    "MMCDXLVI match\n",
    "IIII\tno match\n",
    "IM\tno match\n",
    "Matches\t-1.23E99 | 1E0 | -9.999e-999\n",
    "Non-Matches\t+10E0 | 2.3e5.4 | 9.4608 x 1015\n",
    "©2015 © 2015 (c) 2014 match \n",
    "(C) 2014 , copyright 2014 match\n",
    "4000 0000 0000 0000 match\n",
    "5200-0000-0000-0000 match\n",
    "6500000000000000 match\n",
    "3400-0000-0000-0000\tno match\n",
    "340 000000 000000\n",
    "\"matches\": [\"1:01 AM\", \"1-01 aM\", \"23:52:01\", \"03.24.36 AM\"],\n",
    "\"non-matches\": [\"19:31 AM\", \"9:9 PM\", \"25:60:61\"]\n",
    "this is 23/11/20 23/11/2020  a\n",
    "video lowres.mp4\n",
    "video..lowres..mp4\n",
    "video?lowres.png\n",
    "video_lowres.mp4\n",
    "video_lowres.m4v\n",
    "startbanner.jpg\n",
    "start banner.jpg\n",
    "\"\"\""
   ]
  },
  {
   "cell_type": "code",
   "execution_count": 55,
   "metadata": {},
   "outputs": [
    {
     "data": {
      "text/plain": [
       "'[\\\\U0001F601-\\\\U0001F64F]|[-\\\\U0001F680-\\\\U0001F6C0]|[\\\\uD800-\\\\uDBFF]|[\\\\u2702-\\\\u27B0]|[\\\\uF680-\\\\uF6C0]|[\\\\u24C2-\\\\uF251]'"
      ]
     },
     "execution_count": 55,
     "metadata": {},
     "output_type": "execute_result"
    }
   ],
   "source": [
    "reg_ex_r = r\"[\\U0001F601-\\U0001F64F]|[-\\U0001F680-\\U0001F6C0]|[\\uD800-\\uDBFF]|[\\u2702-\\u27B0]|[\\uF680-\\uF6C0]|[\\u24C2-\\uF251]\"\n",
    "reg_ex_r"
   ]
  },
  {
   "cell_type": "code",
   "execution_count": 57,
   "metadata": {},
   "outputs": [
    {
     "name": "stdout",
     "output_type": "stream",
     "text": [
      "(2, 3) 😺\n",
      "(4, 5) 🙅\n",
      "(12, 13) 🚚\n",
      "(14, 15) 🚁\n",
      "(20, 21) ✂\n",
      "(22, 23) ✋\n",
      "(24, 25) ✅\n",
      "(38, 39) ☺\n",
      "(59, 60) 🙅\n"
     ]
    }
   ],
   "source": [
    "reg_ex = reg_ex_r\n",
    "reg = regex.compile(reg_ex)\n",
    "for r in reg.finditer(\"c 😺 🙅 ibcbb 🚚 🚁 bqw ✂ ✋ ✅ 2 extract1  ☺️ jbjhcb 6 extract2 🙅\"):\n",
    "    print(r.span(), r.group())"
   ]
  },
  {
   "cell_type": "code",
   "execution_count": null,
   "metadata": {},
   "outputs": [],
   "source": [
    "\"[1F601 - 1F64F]|[1F680 - 1F6C0] \""
   ]
  },
  {
   "cell_type": "code",
   "execution_count": 58,
   "metadata": {},
   "outputs": [],
   "source": [
    "import regex"
   ]
  },
  {
   "cell_type": "code",
   "execution_count": 59,
   "metadata": {},
   "outputs": [
    {
     "data": {
      "text/plain": [
       "regex.Regex('text', flags=regex.V0)"
      ]
     },
     "execution_count": 59,
     "metadata": {},
     "output_type": "execute_result"
    }
   ],
   "source": [
    "regex.Regex(\"text\")"
   ]
  },
  {
   "cell_type": "code",
   "execution_count": 60,
   "metadata": {},
   "outputs": [
    {
     "data": {
      "text/plain": [
       "regex.Regex('text', flags=regex.F | regex.V1)"
      ]
     },
     "execution_count": 60,
     "metadata": {},
     "output_type": "execute_result"
    }
   ],
   "source": [
    "regex.Regex(\"text\", flags=regex.V1)"
   ]
  },
  {
   "cell_type": "code",
   "execution_count": 70,
   "metadata": {},
   "outputs": [],
   "source": [
    "a = regex.compile(\"text\",last='Geeks')"
   ]
  },
  {
   "cell_type": "code",
   "execution_count": 87,
   "metadata": {},
   "outputs": [],
   "source": [
    "import regex\n",
    "\n",
    "class Pattern():\n",
    "\n",
    "    def __init__(self, pattern, label, flags=regex.V0):\n",
    "        # Compile the regex and init the label\n",
    "        self.pattern = regex.compile(pattern,flags)        \n",
    "        self.label = label\n",
    "        # The following initialization will allow the object to act\n",
    "        # as an instance of the regex._regex.Pattern\n",
    "        self.search = self.pattern.search\n",
    "        self.findall = self.pattern.findall\n",
    "        self.finditer = self.pattern.finditer\n",
    "        self.match = self.pattern.match\n",
    "        self.fullmatch = self.pattern.fullmatch\n",
    "        self.scanner = self.pattern.scanner\n",
    "        self.split = self.pattern.split\n",
    "        self.splititer = self.pattern.splititer\n",
    "\n"
   ]
  },
  {
   "cell_type": "code",
   "execution_count": 88,
   "metadata": {},
   "outputs": [],
   "source": [
    "p = Pattern(\"text\",\"TEXT.AR\")"
   ]
  },
  {
   "cell_type": "code",
   "execution_count": 89,
   "metadata": {},
   "outputs": [
    {
     "name": "stdout",
     "output_type": "stream",
     "text": [
      "(11, 15) text\n",
      "(20, 24) text\n",
      "(31, 35) text\n"
     ]
    }
   ],
   "source": [
    "for g in p.finditer(\" this is a text and text 2 and text3\"):\n",
    "    print(g.span(),g.group())"
   ]
  },
  {
   "cell_type": "code",
   "execution_count": null,
   "metadata": {},
   "outputs": [],
   "source": []
  }
 ],
 "metadata": {
  "interpreter": {
   "hash": "3039c16fd5591ee607e2235005f3a3a31f23debe61804b46deb1203aab9e489b"
  },
  "kernelspec": {
   "display_name": "Python 3.8.12 ('ml_env')",
   "language": "python",
   "name": "python3"
  },
  "language_info": {
   "codemirror_mode": {
    "name": "ipython",
    "version": 3
   },
   "file_extension": ".py",
   "mimetype": "text/x-python",
   "name": "python",
   "nbconvert_exporter": "python",
   "pygments_lexer": "ipython3",
   "version": "3.8.12"
  },
  "orig_nbformat": 4
 },
 "nbformat": 4,
 "nbformat_minor": 2
}
