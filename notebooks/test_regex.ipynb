{
 "cells": [
  {
   "cell_type": "code",
   "execution_count": 40,
   "metadata": {},
   "outputs": [],
   "source": [
    "import regex\n",
    "import re\n",
    "\n",
    "def to_raw(string):\n",
    "    return fr\"{string}\""
   ]
  },
  {
   "cell_type": "code",
   "execution_count": 171,
   "metadata": {},
   "outputs": [],
   "source": [
    "text = \"\"\"\n",
    "https://www.example.com/questions/3456/my-document\n",
    "ftp://www.example.com/questions/3456/my-document.txt\n",
    "www.example.com\n",
    "http://example.com/questions/3456/my-document\n",
    "\n",
    "ht://www.example.com/questions/3456/my-document\n",
    "/example/questions/3456/my-document.tx\n",
    "example.com\n",
    "example-com/questions/3456/my-document\n",
    "عبارة\n",
    "عنوان\n",
    "الشبكة\n",
    "non-matches:\n",
    "Uniform \n",
    "123\n",
    "Abcd\n",
    "\"\"\""
   ]
  },
  {
   "cell_type": "code",
   "execution_count": 174,
   "metadata": {},
   "outputs": [
    {
     "data": {
      "text/plain": [
       "'\\\\p{Arabic}+'"
      ]
     },
     "execution_count": 174,
     "metadata": {},
     "output_type": "execute_result"
    }
   ],
   "source": [
    "reg_ex_r = r\"\\p{Arabic}+\"\n",
    "reg_ex_r"
   ]
  },
  {
   "cell_type": "code",
   "execution_count": 175,
   "metadata": {},
   "outputs": [
    {
     "name": "stdout",
     "output_type": "stream",
     "text": [
      "(306, 311) عبارة\n",
      "(312, 317) عنوان\n",
      "(318, 324) الشبكة\n"
     ]
    }
   ],
   "source": [
    "reg_ex = reg_ex_r\n",
    "reg = regex.compile(reg_ex)\n",
    "for r in reg.finditer(text):\n",
    "    print(r.span(), r.group())"
   ]
  },
  {
   "cell_type": "code",
   "execution_count": null,
   "metadata": {},
   "outputs": [],
   "source": []
  }
 ],
 "metadata": {
  "interpreter": {
   "hash": "3039c16fd5591ee607e2235005f3a3a31f23debe61804b46deb1203aab9e489b"
  },
  "kernelspec": {
   "display_name": "Python 3.8.12 ('ml_env')",
   "language": "python",
   "name": "python3"
  },
  "language_info": {
   "codemirror_mode": {
    "name": "ipython",
    "version": 3
   },
   "file_extension": ".py",
   "mimetype": "text/x-python",
   "name": "python",
   "nbconvert_exporter": "python",
   "pygments_lexer": "ipython3",
   "version": "3.8.12"
  },
  "orig_nbformat": 4
 },
 "nbformat": 4,
 "nbformat_minor": 2
}
