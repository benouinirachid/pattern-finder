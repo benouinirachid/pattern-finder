{
 "cells": [
  {
   "cell_type": "code",
   "execution_count": 1,
   "metadata": {},
   "outputs": [],
   "source": [
    "import sys\n",
    "sys.path.append(\"../\")\n",
    "from patterns_finder import finder\n",
    "from patterns_finder.patterns import web"
   ]
  },
  {
   "cell_type": "code",
   "execution_count": 37,
   "metadata": {},
   "outputs": [
    {
     "data": {
      "text/plain": [
       "[(18, 19, 'EMOJI', '🦊'), (49, 50, 'EMOJI', '🐶')]"
      ]
     },
     "execution_count": 37,
     "metadata": {},
     "output_type": "execute_result"
    }
   ],
   "source": [
    "web.emoji.find(\"the quick #A52A2A 🦊 jumped 3 times over the lazy 🐶 \")\n",
    "# Output:\n",
    "# [(18, 19, 'EMOJI', '🦊'), (49, 50, 'EMOJI', '🐶')]"
   ]
  },
  {
   "cell_type": "code",
   "execution_count": 38,
   "metadata": {},
   "outputs": [
    {
     "data": {
      "text/plain": [
       "[(25, 45, 'URL', 'https://lazy.dog.com')]"
      ]
     },
     "execution_count": 38,
     "metadata": {},
     "output_type": "execute_result"
    }
   ],
   "source": [
    "web.url.find(\"The lazy 🐶 has a website https://lazy.dog.com \")\n",
    "# Output:\n",
    "# [(25, 45, 'URL', 'https://lazy.dog.com')]"
   ]
  },
  {
   "cell_type": "code",
   "execution_count": 39,
   "metadata": {},
   "outputs": [
    {
     "data": {
      "text/plain": [
       "[(0, 19, 'EMAIL', 'quick.brown@fox.com')]"
      ]
     },
     "execution_count": 39,
     "metadata": {},
     "output_type": "execute_result"
    }
   ],
   "source": [
    "web.email.find(\"quick.brown@fox.com is the email of 🦊 \")\n",
    "# Output:\n",
    "# [(0, 19, 'EMAIL', 'quick.brown@fox.com')]"
   ]
  },
  {
   "cell_type": "code",
   "execution_count": 48,
   "metadata": {},
   "outputs": [
    {
     "data": {
      "text/plain": [
       "[(18, 19, 'EMOJI', '🦊'),\n",
       " (49, 50, 'EMOJI', '🐶'),\n",
       " (4, 9, 'quick|lazy', 'quick'),\n",
       " (44, 48, 'quick|lazy', 'lazy'),\n",
       " (0, 3, 'WORD', 'the'),\n",
       " (4, 9, 'WORD', 'quick'),\n",
       " (20, 26, 'WORD', 'jumped'),\n",
       " (29, 34, 'WORD', 'times'),\n",
       " (35, 39, 'WORD', 'over'),\n",
       " (40, 43, 'WORD', 'the'),\n",
       " (44, 48, 'WORD', 'lazy')]"
      ]
     },
     "execution_count": 48,
     "metadata": {},
     "output_type": "execute_result"
    }
   ],
   "source": [
    "patterns = [web.emoji, \"quick|lazy\", ('\\\\b[a-zA-Z]+\\\\b', 'WORD') ]\n",
    "text = \"the quick #A52A2A 🦊 jumped 3 times over the lazy 🐶 \"\n",
    "finder.patterns_in_text(text, patterns)"
   ]
  },
  {
   "cell_type": "code",
   "execution_count": 49,
   "metadata": {},
   "outputs": [
    {
     "data": {
      "text/plain": [
       "[(0, 3, 'WORD', 'the'),\n",
       " (4, 9, 'quick|lazy', 'quick'),\n",
       " (4, 9, 'WORD', 'quick'),\n",
       " (18, 19, 'EMOJI', '🦊'),\n",
       " (20, 26, 'WORD', 'jumped'),\n",
       " (29, 34, 'WORD', 'times'),\n",
       " (35, 39, 'WORD', 'over'),\n",
       " (40, 43, 'WORD', 'the'),\n",
       " (44, 48, 'quick|lazy', 'lazy'),\n",
       " (44, 48, 'WORD', 'lazy'),\n",
       " (49, 50, 'EMOJI', '🐶')]"
      ]
     },
     "execution_count": 49,
     "metadata": {},
     "output_type": "execute_result"
    }
   ],
   "source": [
    "finder.patterns_in_text(text, patterns, sort_by=finder.START)"
   ]
  },
  {
   "cell_type": "code",
   "execution_count": 50,
   "metadata": {},
   "outputs": [
    {
     "data": {
      "text/plain": [
       "{'EMOJI': [[18, 19, '🦊'], [49, 50, '🐶']],\n",
       " 'quick|lazy': [[4, 9, 'quick'], [44, 48, 'lazy']],\n",
       " 'WORD': [[0, 3, 'the'],\n",
       "  [4, 9, 'quick'],\n",
       "  [20, 26, 'jumped'],\n",
       "  [29, 34, 'times'],\n",
       "  [35, 39, 'over'],\n",
       "  [40, 43, 'the'],\n",
       "  [44, 48, 'lazy']]}"
      ]
     },
     "execution_count": 50,
     "metadata": {},
     "output_type": "execute_result"
    }
   ],
   "source": [
    "finder.patterns_in_text(text, patterns, summary_type=finder.LABEL_TEXT_OFFSET)"
   ]
  },
  {
   "cell_type": "code",
   "execution_count": 51,
   "metadata": {},
   "outputs": [
    {
     "data": {
      "text/plain": [
       "{'EMOJI': ['🦊', '🐶'],\n",
       " 'quick|lazy': ['quick', 'lazy'],\n",
       " 'WORD': ['the', 'quick', 'jumped', 'times', 'over', 'the', 'lazy']}"
      ]
     },
     "execution_count": 51,
     "metadata": {},
     "output_type": "execute_result"
    }
   ],
   "source": [
    "finder.patterns_in_text(text, patterns, summary_type=finder.LABEL_TEXT)"
   ]
  },
  {
   "cell_type": "code",
   "execution_count": 52,
   "metadata": {},
   "outputs": [
    {
     "data": {
      "text/plain": [
       "['🦊',\n",
       " '🐶',\n",
       " 'quick',\n",
       " 'lazy',\n",
       " 'the',\n",
       " 'quick',\n",
       " 'jumped',\n",
       " 'times',\n",
       " 'over',\n",
       " 'the',\n",
       " 'lazy']"
      ]
     },
     "execution_count": 52,
     "metadata": {},
     "output_type": "execute_result"
    }
   ],
   "source": [
    "finder.patterns_in_text(text, patterns, summary_type=finder.TEXT_ONLY)"
   ]
  },
  {
   "cell_type": "code",
   "execution_count": 54,
   "metadata": {},
   "outputs": [
    {
     "data": {
      "text/plain": [
       "\"|    | text                                                 | extraction                                                         |\\n|---:|:-----------------------------------------------------|:-------------------------------------------------------------------|\\n|  0 | the quick #A52A2A 🦊 jumped 3 times over the lazy 🐶 | [(18, 19, 'EMOJI', '🦊'), (49, 50, 'EMOJI', '🐶')]                 |\\n|  1 | quick.brown@fox.com is the email of 🦊               | [(0, 19, 'EMAIL', 'quick.brown@fox.com'), (36, 37, 'EMOJI', '🦊')] |\\n|  2 | The lazy 🐶 has a website https://lazy.dog.com       | [(9, 10, 'EMOJI', '🐶'), (25, 45, 'URL', 'https://lazy.dog.com')]  |\""
      ]
     },
     "execution_count": 54,
     "metadata": {},
     "output_type": "execute_result"
    }
   ],
   "source": [
    "from patterns_finder import finder\n",
    "from patterns_finder.patterns import web\n",
    "import pandas as pd\n",
    "\n",
    "patterns = [web.email, web.emoji, web.url]\n",
    "\n",
    "df = pd.DataFrame(data={\n",
    "    'text': [\"the quick #A52A2A 🦊 jumped 3 times over the lazy 🐶\",\n",
    "                    \"quick.brown@fox.com is the email of 🦊\",\n",
    "                    \"The lazy 🐶 has a website https://lazy.dog.com\"],\n",
    "    })\n",
    "\n",
    "finder.patterns_in_df(df, \"text\", \"extraction\", patterns).to_markdown()"
   ]
  },
  {
   "cell_type": "code",
   "execution_count": 35,
   "metadata": {},
   "outputs": [
    {
     "data": {
      "text/html": [
       "<div>\n",
       "<style scoped>\n",
       "    .dataframe tbody tr th:only-of-type {\n",
       "        vertical-align: middle;\n",
       "    }\n",
       "\n",
       "    .dataframe tbody tr th {\n",
       "        vertical-align: top;\n",
       "    }\n",
       "\n",
       "    .dataframe thead th {\n",
       "        text-align: right;\n",
       "    }\n",
       "</style>\n",
       "<table border=\"1\" class=\"dataframe\">\n",
       "  <thead>\n",
       "    <tr style=\"text-align: right;\">\n",
       "      <th></th>\n",
       "      <th>text</th>\n",
       "      <th>extraction</th>\n",
       "    </tr>\n",
       "  </thead>\n",
       "  <tbody>\n",
       "    <tr>\n",
       "      <th>0</th>\n",
       "      <td>the quick #A52A2A 🦊 jumped 3 times over the lazy 🐶</td>\n",
       "      <td>{'EMOJI': ['🦊', '🐶']}</td>\n",
       "    </tr>\n",
       "    <tr>\n",
       "      <th>1</th>\n",
       "      <td>quick.brown@fox.com is the email of 🦊</td>\n",
       "      <td>{'EMAIL': ['quick.brown@fox.com'], 'EMOJI': ['🦊']}</td>\n",
       "    </tr>\n",
       "    <tr>\n",
       "      <th>2</th>\n",
       "      <td>The lazy 🐶 has a website https://lazy.dog.com</td>\n",
       "      <td>{'EMOJI': ['🐶'], 'URL': ['https://lazy.dog.com']}</td>\n",
       "    </tr>\n",
       "  </tbody>\n",
       "</table>\n",
       "</div>"
      ],
      "text/plain": [
       "                                                 text  \\\n",
       "0  the quick #A52A2A 🦊 jumped 3 times over the lazy 🐶   \n",
       "1               quick.brown@fox.com is the email of 🦊   \n",
       "2       The lazy 🐶 has a website https://lazy.dog.com   \n",
       "\n",
       "                                           extraction  \n",
       "0                               {'EMOJI': ['🦊', '🐶']}  \n",
       "1  {'EMAIL': ['quick.brown@fox.com'], 'EMOJI': ['🦊']}  \n",
       "2   {'EMOJI': ['🐶'], 'URL': ['https://lazy.dog.com']}  "
      ]
     },
     "execution_count": 35,
     "metadata": {},
     "output_type": "execute_result"
    }
   ],
   "source": [
    "finder.patterns_in_df(df, \"text\", \"extraction\", patterns, summary_type=finder.LABEL_TEXT)"
   ]
  },
  {
   "cell_type": "code",
   "execution_count": 36,
   "metadata": {},
   "outputs": [
    {
     "data": {
      "text/html": [
       "<div>\n",
       "<style scoped>\n",
       "    .dataframe tbody tr th:only-of-type {\n",
       "        vertical-align: middle;\n",
       "    }\n",
       "\n",
       "    .dataframe tbody tr th {\n",
       "        vertical-align: top;\n",
       "    }\n",
       "\n",
       "    .dataframe thead th {\n",
       "        text-align: right;\n",
       "    }\n",
       "</style>\n",
       "<table border=\"1\" class=\"dataframe\">\n",
       "  <thead>\n",
       "    <tr style=\"text-align: right;\">\n",
       "      <th></th>\n",
       "      <th>text</th>\n",
       "      <th>extraction</th>\n",
       "    </tr>\n",
       "  </thead>\n",
       "  <tbody>\n",
       "    <tr>\n",
       "      <th>0</th>\n",
       "      <td>the quick #A52A2A 🦊 jumped 3 times over the lazy 🐶</td>\n",
       "      <td>{'EMOJI': ['🦊', '🐶']}</td>\n",
       "    </tr>\n",
       "    <tr>\n",
       "      <th>1</th>\n",
       "      <td>quick.brown@fox.com is the email of 🦊</td>\n",
       "      <td>{'EMAIL': ['quick.brown@fox.com'], 'EMOJI': ['🦊']}</td>\n",
       "    </tr>\n",
       "    <tr>\n",
       "      <th>2</th>\n",
       "      <td>The lazy 🐶 has a website https://lazy.dog.com</td>\n",
       "      <td>{'EMOJI': ['🐶'], 'URL': ['https://lazy.dog.com']}</td>\n",
       "    </tr>\n",
       "  </tbody>\n",
       "</table>\n",
       "</div>"
      ],
      "text/plain": [
       "                                                 text  \\\n",
       "0  the quick #A52A2A 🦊 jumped 3 times over the lazy 🐶   \n",
       "1               quick.brown@fox.com is the email of 🦊   \n",
       "2       The lazy 🐶 has a website https://lazy.dog.com   \n",
       "\n",
       "                                           extraction  \n",
       "0                               {'EMOJI': ['🦊', '🐶']}  \n",
       "1  {'EMAIL': ['quick.brown@fox.com'], 'EMOJI': ['🦊']}  \n",
       "2   {'EMOJI': ['🐶'], 'URL': ['https://lazy.dog.com']}  "
      ]
     },
     "execution_count": 36,
     "metadata": {},
     "output_type": "execute_result"
    }
   ],
   "source": [
    "finder.patterns_in_df(df, \"text\", \"extraction\", patterns, summary_type=finder.LABEL_TEXT)"
   ]
  },
  {
   "cell_type": "code",
   "execution_count": null,
   "metadata": {},
   "outputs": [],
   "source": []
  },
  {
   "cell_type": "code",
   "execution_count": null,
   "metadata": {},
   "outputs": [],
   "source": [
    "# patterns = [web.uri, web.url]\n",
    "# find_from_text(text, patterns)"
   ]
  },
  {
   "cell_type": "code",
   "execution_count": null,
   "metadata": {},
   "outputs": [],
   "source": [
    "# patterns = [numbers.integer, \">\", currency.symbol]"
   ]
  },
  {
   "cell_type": "markdown",
   "metadata": {},
   "source": [
    "* use predefined regex\n",
    "* add new regex\n",
    "* find and extarct patterns from text\n",
    "* find and extarct patterns from dataframes\n",
    "* sort the results of extraction\n",
    "* summarize the results of extraction\n",
    "* build complex extraction rules based on regex"
   ]
  }
 ],
 "metadata": {
  "interpreter": {
   "hash": "3039c16fd5591ee607e2235005f3a3a31f23debe61804b46deb1203aab9e489b"
  },
  "kernelspec": {
   "display_name": "Python 3.8.12 ('ml_env')",
   "language": "python",
   "name": "python3"
  },
  "language_info": {
   "codemirror_mode": {
    "name": "ipython",
    "version": 3
   },
   "file_extension": ".py",
   "mimetype": "text/x-python",
   "name": "python",
   "nbconvert_exporter": "python",
   "pygments_lexer": "ipython3",
   "version": "3.8.12"
  },
  "orig_nbformat": 4
 },
 "nbformat": 4,
 "nbformat_minor": 2
}
