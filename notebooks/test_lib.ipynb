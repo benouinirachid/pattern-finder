{
 "cells": [
  {
   "cell_type": "code",
   "execution_count": 1,
   "metadata": {},
   "outputs": [],
   "source": [
    "import sys\n",
    "sys.path.append(\"../\")"
   ]
  },
  {
   "cell_type": "code",
   "execution_count": 2,
   "metadata": {},
   "outputs": [],
   "source": [
    "import patterns_finder as pf"
   ]
  },
  {
   "cell_type": "code",
   "execution_count": 3,
   "metadata": {},
   "outputs": [],
   "source": [
    "from patterns_finder import finder"
   ]
  },
  {
   "cell_type": "code",
   "execution_count": 2,
   "metadata": {},
   "outputs": [],
   "source": [
    "from patterns_finder.patterns import web"
   ]
  },
  {
   "cell_type": "code",
   "execution_count": 6,
   "metadata": {},
   "outputs": [
    {
     "name": "stdout",
     "output_type": "stream",
     "text": [
      "(11, 19) ee@g.com\n"
     ]
    }
   ],
   "source": [
    "text = \" 😺 🙅 ibcbb ee@g.com s3://test 🚚 🚁 bqw ✂ ✋ ✅ 2 extract1  ☺️ jbjhcb 6 extract2 🙅\"\n",
    "for g in web.email.finditer(text):\n",
    "    print(g.span(),g.group())"
   ]
  },
  {
   "cell_type": "code",
   "execution_count": 12,
   "metadata": {},
   "outputs": [],
   "source": [
    "patterns = [web.email, web.emoji, web.uri, web.alphanumeric ]"
   ]
  },
  {
   "cell_type": "code",
   "execution_count": 10,
   "metadata": {},
   "outputs": [
    {
     "data": {
      "text/plain": [
       "[(11, 19, 'EMAIL', 'ee@g.com')]"
      ]
     },
     "execution_count": 10,
     "metadata": {},
     "output_type": "execute_result"
    }
   ],
   "source": [
    "finder.find_pattern_in_text(text, web.email)"
   ]
  },
  {
   "cell_type": "code",
   "execution_count": 13,
   "metadata": {},
   "outputs": [
    {
     "data": {
      "text/plain": [
       "[(1, 2, 'EMOJI', '😺'),\n",
       " (3, 4, 'EMOJI', '🙅'),\n",
       " (11, 19, 'EMAIL', 'ee@g.com'),\n",
       " (20, 22, 'ALPHANUMERIC', 's3'),\n",
       " (20, 29, 'URI', 's3://test'),\n",
       " (30, 31, 'EMOJI', '🚚'),\n",
       " (32, 33, 'EMOJI', '🚁'),\n",
       " (38, 39, 'EMOJI', '✂'),\n",
       " (40, 41, 'EMOJI', '✋'),\n",
       " (42, 43, 'EMOJI', '✅'),\n",
       " (46, 54, 'ALPHANUMERIC', 'extract1'),\n",
       " (56, 57, 'EMOJI', '☺'),\n",
       " (68, 76, 'ALPHANUMERIC', 'extract2'),\n",
       " (77, 78, 'EMOJI', '🙅')]"
      ]
     },
     "execution_count": 13,
     "metadata": {},
     "output_type": "execute_result"
    }
   ],
   "source": [
    "finder.extract_patterns_from_text(text, patterns)"
   ]
  },
  {
   "cell_type": "code",
   "execution_count": null,
   "metadata": {},
   "outputs": [],
   "source": [
    "# patterns = [web.uri, web.url]\n",
    "# find_from_text(text, patterns)"
   ]
  },
  {
   "cell_type": "code",
   "execution_count": null,
   "metadata": {},
   "outputs": [],
   "source": [
    "# patterns = [numbers.integer, \">\", currency.symbol]"
   ]
  }
 ],
 "metadata": {
  "interpreter": {
   "hash": "3039c16fd5591ee607e2235005f3a3a31f23debe61804b46deb1203aab9e489b"
  },
  "kernelspec": {
   "display_name": "Python 3.8.12 ('ml_env')",
   "language": "python",
   "name": "python3"
  },
  "language_info": {
   "codemirror_mode": {
    "name": "ipython",
    "version": 3
   },
   "file_extension": ".py",
   "mimetype": "text/x-python",
   "name": "python",
   "nbconvert_exporter": "python",
   "pygments_lexer": "ipython3",
   "version": "3.8.12"
  },
  "orig_nbformat": 4
 },
 "nbformat": 4,
 "nbformat_minor": 2
}
